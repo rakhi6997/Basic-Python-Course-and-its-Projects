{
 "cells": [
  {
   "cell_type": "code",
   "execution_count": 1,
   "metadata": {},
   "outputs": [],
   "source": [
    "stockprices=[('appl',200),('goog',400),('msft',500)]"
   ]
  },
  {
   "cell_type": "code",
   "execution_count": 5,
   "metadata": {},
   "outputs": [
    {
     "name": "stdout",
     "output_type": "stream",
     "text": [
      "appl 420.0\n",
      "goog 840.0\n",
      "msft 1050.0\n"
     ]
    }
   ],
   "source": [
    "for a,price in stockprices:\n",
    "    print(a,price+(price*1.1))"
   ]
  },
  {
   "cell_type": "code",
   "execution_count": 26,
   "metadata": {},
   "outputs": [],
   "source": [
    "work_hours=[('abhay',100),('kaustub',200),('ram',600)]"
   ]
  },
  {
   "cell_type": "code",
   "execution_count": 43,
   "metadata": {},
   "outputs": [],
   "source": [
    " def employeecheck(work_hours):\n",
    "    \n",
    "    currentmax=0\n",
    "    employee_of_month=''\n",
    "    for employee,hours in work_hours:\n",
    "        if hours>currentmax:\n",
    "            currentmax=hours\n",
    "            employee_of_month=employee\n",
    "        else:\n",
    "            pass\n",
    "        \n",
    "            \n",
    "        \n",
    "        return (employee_of_month,currentmax)\n",
    "        "
   ]
  },
  {
   "cell_type": "code",
   "execution_count": 44,
   "metadata": {},
   "outputs": [
    {
     "data": {
      "text/plain": [
       "('abhay', 100)"
      ]
     },
     "execution_count": 44,
     "metadata": {},
     "output_type": "execute_result"
    }
   ],
   "source": [
    "employeecheck(work_hours)"
   ]
  },
  {
   "cell_type": "code",
   "execution_count": 33,
   "metadata": {},
   "outputs": [],
   "source": [
    "name,hours=employeecheck(work_hours)"
   ]
  },
  {
   "cell_type": "code",
   "execution_count": 34,
   "metadata": {},
   "outputs": [
    {
     "data": {
      "text/plain": [
       "('abhay', 100)"
      ]
     },
     "execution_count": 34,
     "metadata": {},
     "output_type": "execute_result"
    }
   ],
   "source": [
    "name,hours"
   ]
  },
  {
   "cell_type": "code",
   "execution_count": 77,
   "metadata": {},
   "outputs": [],
   "source": [
    "work_hours=[('abhay',1000,'Mumbai'),('kaustub',2000,\"bangalore\"),('ram',1200,'vizag')]"
   ]
  },
  {
   "cell_type": "code",
   "execution_count": 78,
   "metadata": {},
   "outputs": [],
   "source": [
    "def employeecheck(work_hours):\n",
    "    \n",
    "    currentmax=0\n",
    "    employee_of_month=''\n",
    "    locations=''\n",
    "    for employee,hours,location in work_hours:\n",
    "        if hours>currentmax:\n",
    "            currentmax=hours\n",
    "            employee_of_month=employee\n",
    "            locations=location\n",
    "            \n",
    "        else:\n",
    "            pass\n",
    "        \n",
    "            \n",
    "        \n",
    "    return (employee_of_month,currentmax,locations)\n",
    "        "
   ]
  },
  {
   "cell_type": "code",
   "execution_count": 79,
   "metadata": {},
   "outputs": [
    {
     "data": {
      "text/plain": [
       "('kaustub', 2000, 'bangalore')"
      ]
     },
     "execution_count": 79,
     "metadata": {},
     "output_type": "execute_result"
    }
   ],
   "source": [
    "employeecheck(work_hours)"
   ]
  },
  {
   "cell_type": "code",
   "execution_count": null,
   "metadata": {},
   "outputs": [],
   "source": []
  }
 ],
 "metadata": {
  "kernelspec": {
   "display_name": "Python 3",
   "language": "python",
   "name": "python3"
  },
  "language_info": {
   "codemirror_mode": {
    "name": "ipython",
    "version": 3
   },
   "file_extension": ".py",
   "mimetype": "text/x-python",
   "name": "python",
   "nbconvert_exporter": "python",
   "pygments_lexer": "ipython3",
   "version": "3.7.6"
  }
 },
 "nbformat": 4,
 "nbformat_minor": 4
}
