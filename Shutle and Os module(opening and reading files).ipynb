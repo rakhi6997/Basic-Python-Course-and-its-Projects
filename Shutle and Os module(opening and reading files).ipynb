{
 "cells": [
  {
   "cell_type": "code",
   "execution_count": 7,
   "metadata": {},
   "outputs": [
    {
     "data": {
      "text/plain": [
       "'C:\\\\Users\\\\saikumari\\\\Documents\\\\Python Course'"
      ]
     },
     "execution_count": 7,
     "metadata": {},
     "output_type": "execute_result"
    }
   ],
   "source": [
    "pwd"
   ]
  },
  {
   "cell_type": "code",
   "execution_count": 8,
   "metadata": {},
   "outputs": [],
   "source": [
    "f =open('practice.txt','w+')\n",
    "f.write(\"This is a test string \")\n",
    "f.close()"
   ]
  },
  {
   "cell_type": "code",
   "execution_count": 9,
   "metadata": {},
   "outputs": [],
   "source": [
    "import os"
   ]
  },
  {
   "cell_type": "code",
   "execution_count": 10,
   "metadata": {},
   "outputs": [
    {
     "data": {
      "text/plain": [
       "'C:\\\\Users\\\\saikumari\\\\Documents\\\\Python Course'"
      ]
     },
     "execution_count": 10,
     "metadata": {},
     "output_type": "execute_result"
    }
   ],
   "source": [
    "os.getcwd()"
   ]
  },
  {
   "cell_type": "code",
   "execution_count": null,
   "metadata": {},
   "outputs": [],
   "source": []
  },
  {
   "cell_type": "code",
   "execution_count": 11,
   "metadata": {
    "scrolled": true
   },
   "outputs": [
    {
     "data": {
      "text/plain": [
       "['All Users',\n",
       " 'Default',\n",
       " 'Default User',\n",
       " 'Default.migrated',\n",
       " 'desktop.ini',\n",
       " 'Public',\n",
       " 'saikumari']"
      ]
     },
     "execution_count": 11,
     "metadata": {},
     "output_type": "execute_result"
    }
   ],
   "source": [
    "os.listdir('C:\\\\Users')"
   ]
  },
  {
   "cell_type": "code",
   "execution_count": 15,
   "metadata": {},
   "outputs": [
    {
     "data": {
      "text/plain": [
       "['.ipynb_checkpoints',\n",
       " '2nd MILE STONE PROJECT BLACK JACK.ipynb',\n",
       " '2nd milestone project  warmup.ipynb',\n",
       " 'add_two_numbers.ipynb',\n",
       " 'adv.python modules  Collection Module.ipynb',\n",
       " 'args and kwargs functions.ipynb',\n",
       " 'basic functions.ipynb',\n",
       " 'boolean.ipynb',\n",
       " 'chain comaparision operators.ipynb',\n",
       " 'Comparision operators in python.ipynb',\n",
       " 'dictionaries.ipynb',\n",
       " 'Errors and exceptional handling.ipynb',\n",
       " 'Errors and exceptions handling.ipynb',\n",
       " 'for loop.ipynb',\n",
       " 'function practice exercises.ipynb',\n",
       " 'functions with logic.ipynb',\n",
       " 'helloworld.py',\n",
       " 'hfgfh.txt',\n",
       " 'if elif else codition.ipynb',\n",
       " 'Inheritence and Polymorphism in python.ipynb',\n",
       " 'input output files.ipynb',\n",
       " 'interacting python function mimic game.ipynb',\n",
       " 'lambda expressions map and filter.ipynb',\n",
       " 'list comprehensions in python.ipynb',\n",
       " 'lists.ipynb',\n",
       " 'method and functions homework assignment.ipynb',\n",
       " 'Methods and Functions.ipynb',\n",
       " 'MILESTONE PROJECT 1 TIC TAC TOE.ipynb',\n",
       " 'milestone project 1 warm up.ipynb',\n",
       " 'my first notebook-checkpoint.ipynb',\n",
       " 'my first notebook.ipynb',\n",
       " 'myfile.txt',\n",
       " 'mymodule.py',\n",
       " 'myprogram.py',\n",
       " 'my_new_file.txt',\n",
       " 'nested statements and scope.ipynb',\n",
       " 'OOP Homework and challenge assignment.ipynb',\n",
       " 'OOP Part 1 and Part 2.ipynb',\n",
       " 'packages and modules in python.ipynb',\n",
       " 'practice.txt',\n",
       " 'Print formatting.ipynb',\n",
       " 'python decorators.ipynb',\n",
       " 'python generators.ipynb',\n",
       " 'python numbers.ipynb',\n",
       " 'python object and data structures assessment.ipynb',\n",
       " 'python operators.ipynb',\n",
       " 'sets.ipynb',\n",
       " 'Shutle and Os module(opening and reading files).ipynb',\n",
       " 'Simple user interaction milestone project 1.ipynb',\n",
       " 'simple user interaction milestone project1.ipynb',\n",
       " 'Special Magic or Dunder Methods.ipynb',\n",
       " 'ssc 10th class.JPG',\n",
       " 'statement assessment.ipynb',\n",
       " 'string indexing and slicing.ipynb',\n",
       " 'string properties and methods.ipynb',\n",
       " 'string.ipynb',\n",
       " 'testfile',\n",
       " 'TIC TAC TOE.ipynb',\n",
       " 'tuple unpacking with python functions.ipynb',\n",
       " 'tuples.ipynb',\n",
       " 'Untitled.ipynb',\n",
       " 'variable assignments.ipynb',\n",
       " 'while loops.ipynb']"
      ]
     },
     "execution_count": 15,
     "metadata": {},
     "output_type": "execute_result"
    }
   ],
   "source": [
    "os.listdir()"
   ]
  },
  {
   "cell_type": "code",
   "execution_count": 12,
   "metadata": {},
   "outputs": [],
   "source": [
    "import shutil"
   ]
  },
  {
   "cell_type": "code",
   "execution_count": 14,
   "metadata": {},
   "outputs": [
    {
     "data": {
      "text/plain": [
       "'C:\\\\Users\\\\saikumari\\\\Documents\\\\Python Course\\\\practice.txt'"
      ]
     },
     "execution_count": 14,
     "metadata": {},
     "output_type": "execute_result"
    }
   ],
   "source": [
    "shutil.move('C:\\\\Users\\\\saikumari\\\\practice.txt',os.getcwd())"
   ]
  },
  {
   "cell_type": "code",
   "execution_count": 16,
   "metadata": {},
   "outputs": [
    {
     "data": {
      "text/plain": [
       "<function os.walk(top, topdown=True, onerror=None, followlinks=False)>"
      ]
     },
     "execution_count": 16,
     "metadata": {},
     "output_type": "execute_result"
    }
   ],
   "source": [
    "os.walk"
   ]
  },
  {
   "cell_type": "code",
   "execution_count": 17,
   "metadata": {},
   "outputs": [],
   "source": [
    "filepath='C:\\\\Users\\\\saikumari\\\\Documents\\\\Python Course\\\\practice.txt'\n"
   ]
  },
  {
   "cell_type": "code",
   "execution_count": 19,
   "metadata": {},
   "outputs": [],
   "source": [
    "for folder,subfolders,files in os.walk(filepath):\n",
    "    \n",
    "    print(f\"Currently looking at {folder}\")\n",
    "    print('\\n')\n",
    "    print(\"The sub folders are: \")\n",
    "    \n",
    "    for subfold in subfolders:\n",
    "        print(f\"\\tsub folders: {subfold}\")\n",
    "        \n",
    "        print(\"\\n\")\n",
    "        \n",
    "        for f in files:\n",
    "            print(f\"\\t file:{files}\")\n",
    "        print(\"\\n\")    \n",
    "    \n"
   ]
  },
  {
   "cell_type": "code",
   "execution_count": null,
   "metadata": {},
   "outputs": [],
   "source": []
  }
 ],
 "metadata": {
  "kernelspec": {
   "display_name": "Python 3",
   "language": "python",
   "name": "python3"
  },
  "language_info": {
   "codemirror_mode": {
    "name": "ipython",
    "version": 3
   },
   "file_extension": ".py",
   "mimetype": "text/x-python",
   "name": "python",
   "nbconvert_exporter": "python",
   "pygments_lexer": "ipython3",
   "version": "3.7.6"
  }
 },
 "nbformat": 4,
 "nbformat_minor": 4
}
