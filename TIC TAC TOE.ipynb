{
 "cells": [
  {
   "cell_type": "code",
   "execution_count": 1,
   "metadata": {},
   "outputs": [],
   "source": [
    "from IPython.display import clear_output\n",
    "clear_output()"
   ]
  },
  {
   "cell_type": "code",
   "execution_count": 2,
   "metadata": {},
   "outputs": [],
   "source": [
    "def display_board(board):\n",
    "    print('   |   | ')\n",
    "    print(' '+ board[7] + ' | ' + board[8] + ' | ' + board[9])      \n",
    "    print('   |   | ')\n",
    "    print(' ---------')\n",
    "    print('   |   | ')\n",
    "    print(' '+ board[4] + ' | ' + board[5] + ' | ' + board[6])\n",
    "    print('   |   | ')\n",
    "    print(' ---------')\n",
    "    print('   |   | ')\n",
    "    print(' '+ board[1] + ' | ' + board[2] + ' | ' + board[3])\n",
    "    \n",
    "    "
   ]
  },
  {
   "cell_type": "code",
   "execution_count": 3,
   "metadata": {},
   "outputs": [
    {
     "name": "stdout",
     "output_type": "stream",
     "text": [
      "   |   | \n",
      " X | O | X\n",
      "   |   | \n",
      " ---------\n",
      "   |   | \n",
      " O | X | O\n",
      "   |   | \n",
      " ---------\n",
      "   |   | \n",
      " X | O | X\n"
     ]
    }
   ],
   "source": [
    "test_board=['#','X','O','X','O','X','O','X','O','X']\n",
    "display_board(test_board)"
   ]
  },
  {
   "cell_type": "code",
   "execution_count": 4,
   "metadata": {},
   "outputs": [],
   "source": [
    "def player_input():\n",
    "    \n",
    "    marker=' '\n",
    "    \n",
    "    while (marker!='X' and marker!='O'):\n",
    "        \n",
    "        marker=input(\"Player1,choose X or O:\").upper()\n",
    "        \n",
    "        \n",
    "        if marker=='X':\n",
    "            return ('X','O')\n",
    "        else:\n",
    "            return('O','X')"
   ]
  },
  {
   "cell_type": "code",
   "execution_count": 5,
   "metadata": {},
   "outputs": [
    {
     "name": "stdout",
     "output_type": "stream",
     "text": [
      "Player1,choose X or O:x\n"
     ]
    },
    {
     "data": {
      "text/plain": [
       "('X', 'O')"
      ]
     },
     "execution_count": 5,
     "metadata": {},
     "output_type": "execute_result"
    }
   ],
   "source": [
    "player_input()"
   ]
  },
  {
   "cell_type": "code",
   "execution_count": 6,
   "metadata": {},
   "outputs": [],
   "source": [
    "def place_marker(board,marker,position):\n",
    "    board[position]=marker"
   ]
  },
  {
   "cell_type": "code",
   "execution_count": 7,
   "metadata": {},
   "outputs": [
    {
     "name": "stdout",
     "output_type": "stream",
     "text": [
      "   |   | \n",
      " X | O | X\n",
      "   |   | \n",
      " ---------\n",
      "   |   | \n",
      " O | X | O\n",
      "   |   | \n",
      " ---------\n",
      "   |   | \n",
      " X | O | *\n"
     ]
    }
   ],
   "source": [
    "place_marker(test_board,'*',3)\n",
    "display_board(test_board)"
   ]
  },
  {
   "cell_type": "code",
   "execution_count": 8,
   "metadata": {},
   "outputs": [],
   "source": [
    "def win_check(board,mark):\n",
    "    \n",
    "    return ((board[7]==mark and board[8]== mark and board[9]==mark or\n",
    "         board[4]==mark and board[5]==mark and board[6]==mark or\n",
    "         board[1]==mark and board[2]==mark and board[3]==mark or\n",
    "         board[7]==mark and board[4]==mark and board[1]==mark or\n",
    "         board[8]==mark and board[5]==mark and board[2]==mark or\n",
    "         board[9]==mark and board[6]==mark and board[3]==mark or\n",
    "         board[7]==mark and board[5]==mark and board[3]==mark or\n",
    "         board[9]==mark and board[5]==mark and board[1]==mark))\n",
    "\n"
   ]
  },
  {
   "cell_type": "code",
   "execution_count": 9,
   "metadata": {},
   "outputs": [
    {
     "data": {
      "text/plain": [
       "True"
      ]
     },
     "execution_count": 9,
     "metadata": {},
     "output_type": "execute_result"
    }
   ],
   "source": [
    "win_check(test_board,'X')"
   ]
  },
  {
   "cell_type": "code",
   "execution_count": 10,
   "metadata": {},
   "outputs": [],
   "source": [
    "import random\n",
    "\n",
    "def choose_first():\n",
    "    value= random.randint(0,1)\n",
    "    \n",
    "    if value==0:\n",
    "        \n",
    "        return 'player2'\n",
    "    else:\n",
    "        return 'player1'\n",
    "    "
   ]
  },
  {
   "cell_type": "code",
   "execution_count": 11,
   "metadata": {},
   "outputs": [
    {
     "data": {
      "text/plain": [
       "'player1'"
      ]
     },
     "execution_count": 11,
     "metadata": {},
     "output_type": "execute_result"
    }
   ],
   "source": [
    "choose_first()"
   ]
  },
  {
   "cell_type": "code",
   "execution_count": 12,
   "metadata": {},
   "outputs": [],
   "source": [
    "def space_check(board,position):\n",
    "    return board[position]==' '"
   ]
  },
  {
   "cell_type": "code",
   "execution_count": 13,
   "metadata": {},
   "outputs": [],
   "source": [
    "def full_board_check(board):\n",
    "    for i in range(1,10):\n",
    "        if space_check(board,i):\n",
    "            return False\n",
    "    return True"
   ]
  },
  {
   "cell_type": "code",
   "execution_count": 14,
   "metadata": {},
   "outputs": [
    {
     "data": {
      "text/plain": [
       "True"
      ]
     },
     "execution_count": 14,
     "metadata": {},
     "output_type": "execute_result"
    }
   ],
   "source": [
    "full_board_check(test_board)\n"
   ]
  },
  {
   "cell_type": "code",
   "execution_count": 15,
   "metadata": {},
   "outputs": [],
   "source": [
    "def player_choice(board):\n",
    "    \n",
    "    position=0\n",
    "    \n",
    "    while position not in [1,2,3,4,5,6,7,8,9] or not  space_check(board,position):\n",
    "        \n",
    "        position=int(input('Please choose position in(1-9)'))\n",
    "        \n",
    "    return position"
   ]
  },
  {
   "cell_type": "code",
   "execution_count": 16,
   "metadata": {},
   "outputs": [],
   "source": [
    "def replay():\n",
    "    return input(\"Do you want to play again Yes or No:\").lower().startswith('y')"
   ]
  },
  {
   "cell_type": "code",
   "execution_count": 27,
   "metadata": {},
   "outputs": [
    {
     "name": "stdout",
     "output_type": "stream",
     "text": [
      "WELCOME TO TIC TAC TOE\n",
      "Player1,choose X or O:x\n",
      "   |   | \n",
      "   |   |  \n",
      "   |   | \n",
      " ---------\n",
      "   |   | \n",
      "   |   |  \n",
      "   |   | \n",
      " ---------\n",
      "   |   | \n",
      "   |   |  \n",
      "player1 will go first\n",
      "Are you ready to play or not: y\n",
      "   |   | \n",
      "   |   |  \n",
      "   |   | \n",
      " ---------\n",
      "   |   | \n",
      "   |   |  \n",
      "   |   | \n",
      " ---------\n",
      "   |   | \n",
      "   |   |  \n",
      "Please choose position in(1-9)6\n",
      "   |   | \n",
      "   |   |  \n",
      "   |   | \n",
      " ---------\n",
      "   |   | \n",
      "   |   | X\n",
      "   |   | \n",
      " ---------\n",
      "   |   | \n",
      "   |   |  \n",
      "Please choose position in(1-9)5\n",
      "   |   | \n",
      "   |   |  \n",
      "   |   | \n",
      " ---------\n",
      "   |   | \n",
      "   | O | X\n",
      "   |   | \n",
      " ---------\n",
      "   |   | \n",
      "   |   |  \n",
      "Please choose position in(1-9)4\n",
      "   |   | \n",
      "   |   |  \n",
      "   |   | \n",
      " ---------\n",
      "   |   | \n",
      " X | O | X\n",
      "   |   | \n",
      " ---------\n",
      "   |   | \n",
      "   |   |  \n",
      "Please choose position in(1-9)3\n",
      "   |   | \n",
      "   |   |  \n",
      "   |   | \n",
      " ---------\n",
      "   |   | \n",
      " X | O | X\n",
      "   |   | \n",
      " ---------\n",
      "   |   | \n",
      "   |   | O\n",
      "Please choose position in(1-9)7\n",
      "   |   | \n",
      " X |   |  \n",
      "   |   | \n",
      " ---------\n",
      "   |   | \n",
      " X | O | X\n",
      "   |   | \n",
      " ---------\n",
      "   |   | \n",
      "   |   | O\n",
      "Please choose position in(1-9)1\n",
      "   |   | \n",
      " X |   |  \n",
      "   |   | \n",
      " ---------\n",
      "   |   | \n",
      " X | O | X\n",
      "   |   | \n",
      " ---------\n",
      "   |   | \n",
      " O |   | O\n",
      "Please choose position in(1-9)2\n",
      "   |   | \n",
      " X |   |  \n",
      "   |   | \n",
      " ---------\n",
      "   |   | \n",
      " X | O | X\n",
      "   |   | \n",
      " ---------\n",
      "   |   | \n",
      " O | X | O\n",
      "Please choose position in(1-9)9\n",
      "   |   | \n",
      " X |   | O\n",
      "   |   | \n",
      " ---------\n",
      "   |   | \n",
      " X | O | X\n",
      "   |   | \n",
      " ---------\n",
      "   |   | \n",
      " O | X | O\n",
      "Congratulations Player2 wins\n",
      "Do you want to play again Yes or No:o\n"
     ]
    }
   ],
   "source": [
    "print(\"WELCOME TO TIC TAC TOE\")\n",
    "\n",
    "while True:\n",
    "    theboard=[' ']*10\n",
    "    player1_marker,player2_marker=player_input()\n",
    "    display_board(theboard)\n",
    "    \n",
    "    turn=choose_first()\n",
    "    \n",
    "    print(turn+\" will go first\")\n",
    "    \n",
    "    play_game=input(\"Are you ready to play or not: \")\n",
    "    \n",
    "    if play_game.lower()[0] == 'y':\n",
    "        game_on = True\n",
    "    else:\n",
    "        game_on = False\n",
    "        \n",
    "    while game_on:\n",
    "            \n",
    "        if turn == 'player1':\n",
    "                \n",
    "            display_board(theboard)\n",
    "            position=player_choice(theboard)\n",
    "            place_marker(theboard,player1_marker,position)\n",
    "                \n",
    "            if win_check(theboard,player1_marker):\n",
    "                display_board(theboard)\n",
    "                print(\"Congratulations,you have won the game,Player1\")\n",
    "                game_on=False\n",
    "                    \n",
    "            else:\n",
    "                    \n",
    "                if full_board_check(theboard):\n",
    "                        \n",
    "                    display_board(theboard)\n",
    "                        \n",
    "                    print(\"The game is draw!\")\n",
    "                        \n",
    "                    break\n",
    "                else:\n",
    "                    turn='player2'\n",
    "                        \n",
    "                        \n",
    "        else:\n",
    "                \n",
    "            display_board(theboard)\n",
    "            position=player_choice(theboard\n",
    "                                  )\n",
    "            place_marker(theboard,player2_marker,position)\n",
    "                \n",
    "            if win_check(theboard,player2_marker):\n",
    "                display_board(theboard)\n",
    "                print(\"Congratulations Player2 wins\")\n",
    "                game_on=False\n",
    "            else:\n",
    "                if full_board_check(theboard):\n",
    "                        \n",
    "                    display_board(theboard)\n",
    "                    print(\"The game is draw!\")\n",
    "                    break\n",
    "                else:\n",
    "                    turn='player1'\n",
    "                    \n",
    "    if not replay():\n",
    "        break\n",
    "                \n",
    "            \n",
    "            \n",
    "    \n",
    "        \n",
    "\n",
    " "
   ]
  },
  {
   "cell_type": "code",
   "execution_count": null,
   "metadata": {},
   "outputs": [],
   "source": []
  }
 ],
 "metadata": {
  "kernelspec": {
   "display_name": "Python 3",
   "language": "python",
   "name": "python3"
  }
 },
 "nbformat": 4,
 "nbformat_minor": 4
}
